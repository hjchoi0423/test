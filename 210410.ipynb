{
 "cells": [
  {
   "cell_type": "code",
   "execution_count": null,
   "metadata": {},
   "outputs": [],
   "source": [
    "from itertools import permutations\n",
    "\n",
    "TC=int(input())\n",
    "for i in range(1, TC+1):\n",
    "    N=int(input())\n",
    "    data = list(map(int, input().split()))\n",
    "    #좌표 하나씩 튜플 타입으로 받아오기\n",
    "    office = (data[0], data[1])\n",
    "    house = (data[2], data[3])\n",
    "    custs = [(data[2*i+4],data[2*i+5]) for i in range(N)]\n",
    "    \n",
    "    #경우의 수는 조합으로 계산하자\n",
    "    result = float('inf')\n",
    "    for e in permutations(custs):\n",
    "        sub_res = 0\n",
    "        before = office\n",
    "        for cust in e:\n",
    "            sub_res += abs(cust[0] - before[0]) + abs(cust[1] - before[1])\n",
    "            before = cust\n",
    "        sub_res += abs(house[0] - before[0]) + abs(house[1] - before[1])\n",
    "        if sub_res < result:\n",
    "            result = sub_res\n",
    "    print('#{} {}'.format(i, result))\n",
    "    \n",
    "def calcDistance(a,b):\n",
    "    xDist=abs(a[0]-b[0])\n",
    "    yDist=abs(a[1]-b[1])\n",
    "    dist=xDist+yDist\n",
    "    return dist\n"
   ]
  }
 ],
 "metadata": {
  "kernelspec": {
   "display_name": "Python 3",
   "language": "python",
   "name": "python3"
  },
  "language_info": {
   "codemirror_mode": {
    "name": "ipython",
    "version": 3
   },
   "file_extension": ".py",
   "mimetype": "text/x-python",
   "name": "python",
   "nbconvert_exporter": "python",
   "pygments_lexer": "ipython3",
   "version": "3.7.6"
  }
 },
 "nbformat": 4,
 "nbformat_minor": 4
}
