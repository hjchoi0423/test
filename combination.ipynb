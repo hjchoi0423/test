{
 "cells": [
  {
   "cell_type": "code",
   "execution_count": 20,
   "metadata": {},
   "outputs": [
    {
     "name": "stdout",
     "output_type": "stream",
     "text": [
      "5\n",
      "12 2 34 13 17\n",
      "4\n"
     ]
    }
   ],
   "source": [
    "#from sys import stdin\n",
    "M=int(input())\n",
    "lst=list(map(int, input().split()))\n",
    "K=int(input())"
   ]
  },
  {
   "cell_type": "code",
   "execution_count": 21,
   "metadata": {},
   "outputs": [],
   "source": [
    "def comb(a,b):\n",
    "    rslt=1\n",
    "    for _ in range(b):\n",
    "        rslt*=a\n",
    "        a-=1\n",
    "    return rslt"
   ]
  },
  {
   "cell_type": "code",
   "execution_count": 22,
   "metadata": {},
   "outputs": [],
   "source": [
    "def calc(M, lst, K):\n",
    "    #분모\n",
    "    denominator=comb(sum(lst),K)\n",
    "    #분자\n",
    "    numerator=0\n",
    "    for i in range(M):\n",
    "        numerator+=comb(lst[i],K)\n",
    "    return numerator/denominator"
   ]
  },
  {
   "cell_type": "code",
   "execution_count": 23,
   "metadata": {},
   "outputs": [
    {
     "name": "stdout",
     "output_type": "stream",
     "text": [
      "0.035028830818304504\n"
     ]
    }
   ],
   "source": [
    "print(calc(M,lst,K))"
   ]
  },
  {
   "cell_type": "code",
   "execution_count": 19,
   "metadata": {},
   "outputs": [
    {
     "name": "stdout",
     "output_type": "stream",
     "text": [
      "3 [5, 6, 7] 2\n"
     ]
    }
   ],
   "source": [
    "print(M, lst, K)"
   ]
  },
  {
   "cell_type": "code",
   "execution_count": null,
   "metadata": {},
   "outputs": [],
   "source": []
  }
 ],
 "metadata": {
  "kernelspec": {
   "display_name": "Python 3",
   "language": "python",
   "name": "python3"
  },
  "language_info": {
   "codemirror_mode": {
    "name": "ipython",
    "version": 3
   },
   "file_extension": ".py",
   "mimetype": "text/x-python",
   "name": "python",
   "nbconvert_exporter": "python",
   "pygments_lexer": "ipython3",
   "version": "3.7.6"
  }
 },
 "nbformat": 4,
 "nbformat_minor": 4
}
